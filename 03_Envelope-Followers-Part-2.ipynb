{
 "cells": [
  {
   "cell_type": "markdown",
   "metadata": {},
   "source": [
    "### How to use this notebook (for anyone not familiar with jupyter)\n",
    "\n",
    "Before we get started, I'd like to note that while reading this notebook on github is fine, there are several interactive elements used to demonstrate several ideas that only render when the notebook is ran in a live kernel. This also allows you to play with the code samples inline with the rest of the notebook.\n",
    "\n",
    "For the best experience I'd recommend installing [jupyter](https://jupyter.org/install) on your machine and cloning this repository so that you can run the notebooks locally. \n",
    "\n",
    "If however you'd prefer not to install anything, you can also run this notebook on Google's Colab [here](https://colab.research.google.com/github/jd-13/dsp-math-for-audio/blob/master/03_Envelope-Followers-Part-2.ipynb).\n",
    "\n",
    "Once running click `Kernel` -> `Restart & Run All` (or `Runtime` -> `Run all` if you're using Colab) to render all of the interactive examples, and you are then free to edit the code and run individual cells as you wish."
   ]
  },
  {
   "cell_type": "code",
   "execution_count": 1,
   "metadata": {},
   "outputs": [],
   "source": [
    "\"\"\"\n",
    "This code cell contains a few imports and functions that we'll need later but aren't of much interest.\n",
    "The main content starts immediately after.\n",
    "\"\"\"\n",
    "\n",
    "from ipywidgets import interact\n",
    "import matplotlib.pylab as plt\n",
    "import math\n",
    "import numpy as np\n",
    "import scipy.signal\n",
    "%matplotlib inline\n",
    "\n",
    "# We'll use this to define the x-axis of any graphs we plot\n",
    "NUM_SAMPLES = 500\n",
    "SAMPLE_RANGE = np.linspace(0, NUM_SAMPLES, NUM_SAMPLES)\n",
    "\n",
    "# Run at a lower than usual sample rate to keep the interactive examples from\n",
    "# needing too much compute\n",
    "SAMPLE_RATE = 10000\n",
    "\n",
    "Y_LIMIT = 1.2\n",
    "\n",
    "# Set the control limits\n",
    "FREQUENCY_RANGE=(50, 1000, 100)\n",
    "CUTOFF_RANGE=(6, 40, 2)\n",
    "\n",
    "def sineWaveDecay(frequencyHz):\n",
    "    \"\"\"\n",
    "    Returns a np array of length numSamples containing a sine wave impulse\n",
    "    which decays linearly.\n",
    "    \"\"\"    \n",
    "    # Build a saw that is half the length of the buffer\n",
    "    amplitudeMap = (-scipy.signal.sawtooth(0.5 * np.linspace(0, 4 * np.pi, int(NUM_SAMPLES / 2))) + 1) / 2\n",
    "    \n",
    "    # Concatenate zeros either side of the saw\n",
    "    zerosQuarter = np.zeros((int(NUM_SAMPLES / 4)))\n",
    "    amplitudeMap = np.concatenate((zerosQuarter, amplitudeMap, zerosQuarter))\n",
    "    \n",
    "    # Smooth the amplitude map\n",
    "    b, a = scipy.signal.butter(4, 0.04, btype=\"lowpass\", analog=False)\n",
    "    amplitudeMap = scipy.signal.lfilter(b, a, amplitudeMap)\n",
    "    \n",
    "    # Produce the sine wave, modulating the amplitude using the saw wave\n",
    "    buffer = np.sin((2 * math.pi * frequencyHz) * (SAMPLE_RANGE / SAMPLE_RATE)) * amplitudeMap\n",
    "    \n",
    "    return buffer\n",
    "\n",
    "def realSquareLawEnvelope(inputSignal, filterFunc):\n",
    "    \"\"\"\n",
    "    Example implementation of a real square law envelope follower.\n",
    "    \n",
    "    Given an input signal and attack/release times in milliseconds,\n",
    "    produces an envelope.\n",
    "    \"\"\"\n",
    "    \n",
    "    ## Step 1: Square the input\n",
    "    rectifiedBuffer = inputSignal ** 2\n",
    "    \n",
    "    ## Step 2: Apply the filtering    \n",
    "    envelopeBuffer = np.copy(rectifiedBuffer)            \n",
    "    envelopeBuffer = filterFunc(envelopeBuffer)\n",
    "\n",
    "    ## Step 3: Square root the output of the filter\n",
    "    envelopeBuffer = np.sqrt(envelopeBuffer)\n",
    "\n",
    "    return rectifiedBuffer, envelopeBuffer"
   ]
  },
  {
   "cell_type": "markdown",
   "metadata": {},
   "source": [
    "## Intro\n",
    "\n",
    "In the [previous notebook](https://github.com/jd-13/dsp-math-for-audio) we looked at how several different types of envelope filter work, and concluded that most of them use a rectification stage of some sort followed by a low pass filter. The content of the previous notebook was focused mostly on the performance impacts of using different rectification stages, but what about the filter stage?\n",
    "\n",
    "In this notebook we'll look at how changing the filter stage of an envelope follower affects its performance, and for consistency we'll use an envelope follower with a real square law rectification stage throughout the examples in this notebook.\n",
    "\n",
    "First, let's review how a real square law envelope follower works:\n",
    "\n",
    "![](https://raw.githubusercontent.com/jd-13/dsp-math-for-audio/master/assets/envelope-followers/realSquareLaw.png)\n",
    "\n",
    "In any envelope follower like the one above, the frequency response of the filter being used determines the responsiveness of the envelope follower, often described as the attack and release time.\n",
    "\n",
    "As you may have noticed from the code in the previous notebook, when controlling the attack and release times we're actually controlling the coefficients of the filter, therefore changing it's frequency response.\n",
    "\n",
    "Attenuating higher frequencies more results in a smoother but slower response, while passing through more high frequencies creates a faster response with more ripple. Now, let's look at a demonstration of this using a real square law envelope follower.\n",
    "\n",
    "This example is the same as we have seen from the end of the previous notebook, however the attack and release controls have been replaced with direct control over the cutoff frequency of the filter. You can also control the frequency of the input signal to see how the envelope follower responds to different frequencies."
   ]
  },
  {
   "cell_type": "code",
   "execution_count": 2,
   "metadata": {},
   "outputs": [
    {
     "data": {
      "application/vnd.jupyter.widget-view+json": {
       "model_id": "371b5673b0f94bdcab5bf094d326a7fb",
       "version_major": 2,
       "version_minor": 0
      },
      "text/html": [
       "<p>Failed to display Jupyter Widget of type <code>interactive</code>.</p>\n",
       "<p>\n",
       "  If you're reading this message in the Jupyter Notebook or JupyterLab Notebook, it may mean\n",
       "  that the widgets JavaScript is still loading. If this message persists, it\n",
       "  likely means that the widgets JavaScript library is either not installed or\n",
       "  not enabled. See the <a href=\"https://ipywidgets.readthedocs.io/en/stable/user_install.html\">Jupyter\n",
       "  Widgets Documentation</a> for setup instructions.\n",
       "</p>\n",
       "<p>\n",
       "  If you're reading this message in another frontend (for example, a static\n",
       "  rendering on GitHub or <a href=\"https://nbviewer.jupyter.org/\">NBViewer</a>),\n",
       "  it may mean that your frontend doesn't currently support widgets.\n",
       "</p>\n"
      ],
      "text/plain": [
       "interactive(children=(IntSlider(value=450, description='inputSineFrequency', max=1000, min=50, step=100), IntSlider(value=41, description='cutoff', min=1, step=10), Output()), _dom_classes=('widget-interact',))"
      ]
     },
     "metadata": {},
     "output_type": "display_data"
    }
   ],
   "source": [
    "class ButterworthLP:    \n",
    "    def __init__(self, order, cutoffHz):\n",
    "        angularCutoff = (2 * np.pi * cutoffHz) / (0.5 * SAMPLE_RATE)\n",
    "        self._b, self._a = scipy.signal.butter(order, angularCutoff, \"lowpass\", False, \"ba\")\n",
    "        \n",
    "    def __call__(self, inputBuffer):\n",
    "        return scipy.signal.lfilter(self._b, self._a, inputBuffer)\n",
    "    \n",
    "@interact(inputSineFrequency=(50, 1000, 100), cutoff=(1, 100, 10))\n",
    "def plotRealSquareLaw(inputSineFrequency, cutoff):\n",
    "    \"\"\"\n",
    "    Feeds a sine wave impluse to the envelope follower and plots the outputs.\n",
    "    \"\"\"\n",
    "    \n",
    "    # Generate the input signal\n",
    "    signalBuffer = sineWaveDecay(inputSineFrequency)  \n",
    "    \n",
    "    # Generate the output from the envelope at its thresholding stage and its\n",
    "    # final output\n",
    "    rectifiedBuffer, envelopeBuffer = realSquareLawEnvelope(signalBuffer, ButterworthLP(1, cutoff))\n",
    "\n",
    "    # Plot the envelope outputs\n",
    "    plt.figure(figsize=(15, 4))\n",
    "\n",
    "    plt.plot(SAMPLE_RANGE, signalBuffer)\n",
    "    plt.plot(SAMPLE_RANGE, envelopeBuffer)\n",
    "\n",
    "    plt.ylim(bottom=-Y_LIMIT, top=Y_LIMIT)\n",
    "    plt.title(\"Envelope Output\")\n",
    "    plt.xlabel(\"Samples\")\n",
    "    plt.ylabel(\"Displacement\")\n",
    "\n",
    "    plt.show()"
   ]
  },
  {
   "cell_type": "markdown",
   "metadata": {},
   "source": [
    "Notice how a higher cutoff frequency causes the envelope follower to track the peaks and troughs of the wave more closely, while a lower cutoff frequency causes the follower to produce a smoother output.\n",
    "\n",
    "## The effects of a filter's order\n",
    "\n",
    "So what about changing the order of the filter? A higher order filter would attenuate high frequencies more than a lower order filter with the same cutoff frequency, so would be expected to result in a slower and smoother response.\n",
    "\n",
    "The below example compares a first, second, and third order Butterworth at the same cutoff frequency. You can use the sliders to control the cutoff frequency which the filters are set to and the frequency of the input signal."
   ]
  },
  {
   "cell_type": "code",
   "execution_count": 3,
   "metadata": {},
   "outputs": [
    {
     "data": {
      "application/vnd.jupyter.widget-view+json": {
       "model_id": "01b70947ddfa49d198cfebd979a7ab56",
       "version_major": 2,
       "version_minor": 0
      },
      "text/html": [
       "<p>Failed to display Jupyter Widget of type <code>interactive</code>.</p>\n",
       "<p>\n",
       "  If you're reading this message in the Jupyter Notebook or JupyterLab Notebook, it may mean\n",
       "  that the widgets JavaScript is still loading. If this message persists, it\n",
       "  likely means that the widgets JavaScript library is either not installed or\n",
       "  not enabled. See the <a href=\"https://ipywidgets.readthedocs.io/en/stable/user_install.html\">Jupyter\n",
       "  Widgets Documentation</a> for setup instructions.\n",
       "</p>\n",
       "<p>\n",
       "  If you're reading this message in another frontend (for example, a static\n",
       "  rendering on GitHub or <a href=\"https://nbviewer.jupyter.org/\">NBViewer</a>),\n",
       "  it may mean that your frontend doesn't currently support widgets.\n",
       "</p>\n"
      ],
      "text/plain": [
       "interactive(children=(IntSlider(value=450, description='inputSineFrequency', max=1000, min=50, step=100), IntSlider(value=22, description='cutoff', max=40, min=6, step=2), Output()), _dom_classes=('widget-interact',))"
      ]
     },
     "metadata": {},
     "output_type": "display_data"
    }
   ],
   "source": [
    "@interact(inputSineFrequency=FREQUENCY_RANGE, cutoff=CUTOFF_RANGE)\n",
    "def plotComparison1(inputSineFrequency, cutoff):\n",
    "    \"\"\"\n",
    "    Feeds a sine wave impluse to the envelope followers and plots the outputs.\n",
    "    \"\"\"\n",
    "    \n",
    "    # Generate the input signal\n",
    "    signalBuffer = sineWaveDecay(inputSineFrequency)\n",
    "        \n",
    "    _, firstOrderBuffer = realSquareLawEnvelope(signalBuffer, ButterworthLP(1, cutoff))\n",
    "    _, secondOrderBuffer = realSquareLawEnvelope(signalBuffer, ButterworthLP(2, cutoff))\n",
    "    _, thirdOrderBuffer = realSquareLawEnvelope(signalBuffer, ButterworthLP(3, cutoff))\n",
    "\n",
    "    plt.figure(figsize=(15, 4))\n",
    "\n",
    "    plt.plot(SAMPLE_RANGE, signalBuffer, label=\"Input\")\n",
    "    plt.plot(SAMPLE_RANGE, firstOrderBuffer, label=\"First Order\")\n",
    "    plt.plot(SAMPLE_RANGE, secondOrderBuffer, label=\"Second Order\")\n",
    "    plt.plot(SAMPLE_RANGE, thirdOrderBuffer, label=\"Third Order\")\n",
    "\n",
    "    plt.ylim(bottom=-Y_LIMIT, top=Y_LIMIT)\n",
    "    plt.xlabel(\"Samples\")\n",
    "    plt.ylabel(\"Displacement\")\n",
    "    plt.legend(loc='upper left')\n",
    "\n",
    "    plt.show()"
   ]
  },
  {
   "cell_type": "markdown",
   "metadata": {},
   "source": [
    "As expected, we can see that the envelope follower built from second and third order filters lag behind the one with a first order filter, but they also show much less ripple.\n",
    "\n",
    "You might now be wondering if lowering the cutoff frequency of the first and second order filters by some value results in the same performance as the third order filter, we can see the result of this experiment below."
   ]
  },
  {
   "cell_type": "code",
   "execution_count": 4,
   "metadata": {},
   "outputs": [
    {
     "data": {
      "application/vnd.jupyter.widget-view+json": {
       "model_id": "eaf23e944a6f439b87e3396fac5ee3eb",
       "version_major": 2,
       "version_minor": 0
      },
      "text/html": [
       "<p>Failed to display Jupyter Widget of type <code>interactive</code>.</p>\n",
       "<p>\n",
       "  If you're reading this message in the Jupyter Notebook or JupyterLab Notebook, it may mean\n",
       "  that the widgets JavaScript is still loading. If this message persists, it\n",
       "  likely means that the widgets JavaScript library is either not installed or\n",
       "  not enabled. See the <a href=\"https://ipywidgets.readthedocs.io/en/stable/user_install.html\">Jupyter\n",
       "  Widgets Documentation</a> for setup instructions.\n",
       "</p>\n",
       "<p>\n",
       "  If you're reading this message in another frontend (for example, a static\n",
       "  rendering on GitHub or <a href=\"https://nbviewer.jupyter.org/\">NBViewer</a>),\n",
       "  it may mean that your frontend doesn't currently support widgets.\n",
       "</p>\n"
      ],
      "text/plain": [
       "interactive(children=(IntSlider(value=450, description='inputSineFrequency', max=1000, min=50, step=100), Output()), _dom_classes=('widget-interact',))"
      ]
     },
     "metadata": {},
     "output_type": "display_data"
    }
   ],
   "source": [
    "@interact(inputSineFrequency=FREQUENCY_RANGE)\n",
    "def plotComparison2(inputSineFrequency):\n",
    "    \"\"\"\n",
    "    Feeds a sine wave impluse to the envelope followers and plots the outputs.\n",
    "    \"\"\"\n",
    "    \n",
    "    # Generate the input signal\n",
    "    signalBuffer = sineWaveDecay(inputSineFrequency)\n",
    "    \n",
    "    CUTOFF = 20\n",
    "    \n",
    "    _, firstOrderBuffer = realSquareLawEnvelope(signalBuffer, ButterworthLP(1, CUTOFF-18))\n",
    "    _, secondOrderBuffer = realSquareLawEnvelope(signalBuffer, ButterworthLP(2, CUTOFF-10))\n",
    "    _, thirdOrderBuffer = realSquareLawEnvelope(signalBuffer, ButterworthLP(3, CUTOFF))\n",
    "\n",
    "    plt.figure(figsize=(15, 4))\n",
    "\n",
    "    plt.plot(SAMPLE_RANGE, signalBuffer, label=\"Input\")\n",
    "    plt.plot(SAMPLE_RANGE, firstOrderBuffer, label=\"First Order\")\n",
    "    plt.plot(SAMPLE_RANGE, secondOrderBuffer, label=\"Second Order\")\n",
    "    plt.plot(SAMPLE_RANGE, thirdOrderBuffer, label=\"Third Order\")\n",
    "\n",
    "    plt.ylim(bottom=-Y_LIMIT, top=Y_LIMIT)\n",
    "    plt.xlabel(\"Samples\")\n",
    "    plt.ylabel(\"Displacement\")\n",
    "    plt.legend(loc='upper left')\n",
    "\n",
    "    plt.show()"
   ]
  },
  {
   "cell_type": "markdown",
   "metadata": {},
   "source": [
    "We can see here that once the cutoff frequency of the first and second order filters has been lowered sufficiently to push their attack times back to that of the third order filter, they have a much lower peak amplitude, slightly more ripple, and a longer release time (*much* longer in the case of the first order filter) than the envelope follower built from a third order filter - so using a higher order filter can result in a very different behaviour that can't be achieved by simply changing the cutoff frequency of a lower order filter.\n",
    "\n",
    "## The effects of a filter's architecture\n",
    "\n",
    "So far we've only used Butterworth filters since they're very common, but now let's see how an envelope follower performs when using a different architecture. If you're not familiar with different filter types, the Intro section of the [IIR Filters notebook](https://github.com/jd-13/dsp-math-for-audio) has a interactive example to summarise.\n",
    "\n",
    "Compared to the Butterworth, the Chebyshev filter has a steeper slope between its passband and stopband, so we might expect the Chebyshev to behave a little like the higher order Butterworth, ie. a slower attack and less ripple. An important difference is the Butterworth filter has a smooth response where the Chebyshev filter has ripple in the passband.\n",
    "\n",
    "The elliptic filter has an even steeper slope than the Chebyshev, but also has ripple in both the passband and the stopband, so we might expect an envelope follower built from an elliptic filter to look like a more extreme version of the Chebyshev.\n",
    "\n",
    "The Bessel filter is distinguished by having a linear phase response and flat group delay, but the cost of this is a flatter slope between its passband and stopband. We might not expect phase response or group delay to affect the ability of the envelope follower to follow a signal, but the flatter slope very likely will.\n",
    "\n",
    "In the code below, we set up pairs of first and third order filters with the same cutoff frequency. The tick boxes can be used to compare envelope followers built from different filter types. As before, the input signal frequency and the filters' cutoff frequency can both be controlled using the sliders."
   ]
  },
  {
   "cell_type": "code",
   "execution_count": 5,
   "metadata": {
    "scrolled": false
   },
   "outputs": [
    {
     "data": {
      "application/vnd.jupyter.widget-view+json": {
       "model_id": "0981803e72634accb72613f8239729da",
       "version_major": 2,
       "version_minor": 0
      },
      "text/html": [
       "<p>Failed to display Jupyter Widget of type <code>interactive</code>.</p>\n",
       "<p>\n",
       "  If you're reading this message in the Jupyter Notebook or JupyterLab Notebook, it may mean\n",
       "  that the widgets JavaScript is still loading. If this message persists, it\n",
       "  likely means that the widgets JavaScript library is either not installed or\n",
       "  not enabled. See the <a href=\"https://ipywidgets.readthedocs.io/en/stable/user_install.html\">Jupyter\n",
       "  Widgets Documentation</a> for setup instructions.\n",
       "</p>\n",
       "<p>\n",
       "  If you're reading this message in another frontend (for example, a static\n",
       "  rendering on GitHub or <a href=\"https://nbviewer.jupyter.org/\">NBViewer</a>),\n",
       "  it may mean that your frontend doesn't currently support widgets.\n",
       "</p>\n"
      ],
      "text/plain": [
       "interactive(children=(IntSlider(value=450, description='inputSineFrequency', max=1000, min=50, step=100), IntSlider(value=22, description='cutoff', max=40, min=6, step=2), Checkbox(value=True, description='butterworth'), Checkbox(value=True, description='chebyshev'), Checkbox(value=False, description='elliptic'), Checkbox(value=False, description='bessel'), Output()), _dom_classes=('widget-interact',))"
      ]
     },
     "metadata": {},
     "output_type": "display_data"
    }
   ],
   "source": [
    "# Below are a few classes that handle the filtering, docstrings and formatting omitted for brevity\n",
    "class ChebyshevLP:\n",
    "    def __init__(self, order, cutoffHz):\n",
    "        angularCutoff = (2 * np.pi * cutoffHz) / (0.5 * SAMPLE_RATE)\n",
    "        self._b, self._a = scipy.signal.cheby1(order, 3, angularCutoff, \"lowpass\", False, \"ba\")\n",
    "        \n",
    "    def __call__(self, inputBuffer):\n",
    "        return scipy.signal.lfilter(self._b, self._a, inputBuffer)\n",
    "    \n",
    "class EllipticLP:\n",
    "    def __init__(self, order, cutoffHz):\n",
    "        angularCutoff = (2 * np.pi * cutoffHz) / (0.5 * SAMPLE_RATE)\n",
    "        self._b, self._a = scipy.signal.ellip(order, 3, 20, angularCutoff, \"lowpass\", False, \"ba\")\n",
    "        \n",
    "    def __call__(self, inputBuffer):\n",
    "        return scipy.signal.lfilter(self._b, self._a, inputBuffer)\n",
    "    \n",
    "class BesselLP:    \n",
    "    def __init__(self, order, cutoffHz):\n",
    "        angularCutoff = (2 * np.pi * cutoffHz) / (0.5 * SAMPLE_RATE)\n",
    "        self._b, self._a = scipy.signal.bessel(order, angularCutoff, \"lowpass\", False)\n",
    "        \n",
    "    def __call__(self, inputBuffer):\n",
    "        return scipy.signal.lfilter(self._b, self._a, inputBuffer)\n",
    "\n",
    "@interact(inputSineFrequency=FREQUENCY_RANGE, cutoff=CUTOFF_RANGE, butterworth=True, chebyshev=True, elliptic=False, bessel=False)\n",
    "def plotComparison3(inputSineFrequency, cutoff, butterworth, chebyshev, elliptic, bessel):\n",
    "    \"\"\"\n",
    "    Feeds a sine wave impluse to the envelope followers and plots the outputs.\n",
    "    \"\"\"\n",
    "    \n",
    "    # Generate the input signal\n",
    "    signalBuffer = sineWaveDecay(inputSineFrequency)\n",
    "\n",
    "    # Plot the input signal\n",
    "    plt.figure(figsize=(15, 4))\n",
    "    plt.plot(SAMPLE_RANGE, signalBuffer, label=\"Input\")\n",
    "\n",
    "    # Plot each envelope follower that is selected \n",
    "    filterMapping = {\n",
    "        \"Butterworth\": [butterworth, ButterworthLP],\n",
    "        \"Chebyshev\": [chebyshev, ChebyshevLP],\n",
    "        \"Elliptic\": [elliptic, EllipticLP],\n",
    "        \"Bessel\": [bessel, BesselLP]\n",
    "    }\n",
    "\n",
    "    for filterClass in filterMapping.items():\n",
    "        filterName = filterClass[0]\n",
    "        filterActive = filterClass[1][0]\n",
    "        filterFunc = filterClass[1][1]\n",
    "        \n",
    "        if filterActive:\n",
    "            _, firstOrderBuffer = realSquareLawEnvelope(signalBuffer, filterFunc(1, cutoff))\n",
    "            _, thirdOrderBuffer = realSquareLawEnvelope(signalBuffer, filterFunc(3, cutoff))\n",
    "\n",
    "            plt.plot(SAMPLE_RANGE, firstOrderBuffer, label=f\"First Order {filterName}\")\n",
    "            plt.plot(SAMPLE_RANGE, thirdOrderBuffer, label=f\"Third Order {filterName}\")\n",
    "\n",
    "    # Configure the plot\n",
    "    plt.ylim(bottom=-Y_LIMIT, top=Y_LIMIT)\n",
    "    plt.xlabel(\"Samples\")\n",
    "    plt.ylabel(\"Displacement\")\n",
    "    plt.legend(loc='upper left')\n",
    "\n",
    "    plt.show()"
   ]
  },
  {
   "cell_type": "markdown",
   "metadata": {},
   "source": [
    "Let's compare the behaviours we can see in the above example:\n",
    "\n",
    "### Chebyshev\n",
    "The envelope followers built from the first order Butterworth and Chebyshev both behave identically, but the third order ones are a little different. The Chebyshev produces a longer attack and release time as expected, but actually introduces more ripple due to the ripple in the Chebyshev's passband.\n",
    "\n",
    "### Elliptic\n",
    "Again, the envelope follower built from a first order elliptic filter behaves the same as the first order Butterworth and Chebyshev, but the third order filter is more interesting. It shows a lot more ripple, and actually has a slightly faster attack than the Chebyshev or Butterworth - possibly because the ripple in the stop band actually reduces its attenuation of high frequencies.\n",
    "\n",
    "### Bessel\n",
    "As expected, an envelope follower built from a Bessel filter behaves very similarly to the Butterworth, with the third order variant having just a slightly slower response and a slightly smaller peak.\n",
    "\n",
    "## Conclusion\n",
    "This was just a quick introduction to how your choice of filter can affect the way your envelope follower behaves. We've seen from the demonstrations that both the order and type of an envelope follower's filter stage are important factors, with a general rule being:\n",
    "\n",
    "    More attenuation of high frequencies = slower response, less ripple\n",
    "\n",
    "## Further Reading\n",
    "Below are several resources that I found useful while researching this notebook. If you wish to read more about this topic, these may be good places to start.\n",
    "\n",
    "[Envelope detector](https://en.wikipedia.org/wiki/Envelope_detector)  \n",
    "[Digital Envelope Detection: The Good, the Bad, and the Ugly](https://www.dsprelated.com/showarticle/938.php)  \n",
    "[Meaning of Hilbert Transform](https://dsp.stackexchange.com/questions/25845/meaning-of-hilbert-transform)  \n",
    "[Envelope detector](http://www.musicdsp.org/en/latest/Analysis/97-envelope-detector.html)  \n",
    "[Envelope Controlled Filters](http://elliott-randall.com/2011/06/envelope-controlled-filters/)  \n",
    "[Auto-wah](https://en.wikipedia.org/wiki/Auto-wah)  \n",
    "[Amplitude Modulation](https://user.eng.umd.edu/~tretter/commlab/c6713slides/ch5.pdf)"
   ]
  },
  {
   "cell_type": "code",
   "execution_count": null,
   "metadata": {},
   "outputs": [],
   "source": []
  }
 ],
 "metadata": {
  "kernelspec": {
   "display_name": "Python 3",
   "language": "python",
   "name": "python3"
  },
  "language_info": {
   "codemirror_mode": {
    "name": "ipython",
    "version": 3
   },
   "file_extension": ".py",
   "mimetype": "text/x-python",
   "name": "python",
   "nbconvert_exporter": "python",
   "pygments_lexer": "ipython3",
   "version": "3.6.2"
  }
 },
 "nbformat": 4,
 "nbformat_minor": 2
}
